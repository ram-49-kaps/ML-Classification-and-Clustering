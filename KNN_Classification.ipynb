{
  "nbformat": 4,
  "nbformat_minor": 0,
  "metadata": {
    "colab": {
      "provenance": []
    },
    "kernelspec": {
      "name": "python3",
      "display_name": "Python 3"
    },
    "language_info": {
      "name": "python"
    }
  },
  "cells": [
    {
      "cell_type": "markdown",
      "source": [
        "# Exploring KNN"
      ],
      "metadata": {
        "id": "athkVYXX8TA3"
      }
    },
    {
      "cell_type": "markdown",
      "source": [
        "Import"
      ],
      "metadata": {
        "id": "oRv7BELY8nh-"
      }
    },
    {
      "cell_type": "code",
      "execution_count": null,
      "metadata": {
        "id": "Tq1P3tWu8Hu1"
      },
      "outputs": [],
      "source": [
        "import pandas as pd\n",
        "import numpy as np\n",
        "import matplotlib.pyplot as plt\n",
        "from sklearn.model_selection import train_test_split\n",
        "from sklearn.neighbors import KNeighborsClassifier\n",
        "from sklearn.preprocessing import MinMaxScaler\n",
        "from sklearn.metrics import accuracy_score, classification_report, confusion_matrix"
      ]
    },
    {
      "cell_type": "markdown",
      "source": [
        "Load Dataset"
      ],
      "metadata": {
        "id": "YP3mJo7H9Pe8"
      }
    },
    {
      "cell_type": "code",
      "source": [
        "df = pd.read_csv('heart_disease.csv')"
      ],
      "metadata": {
        "id": "njm64_089KA4"
      },
      "execution_count": null,
      "outputs": []
    },
    {
      "cell_type": "markdown",
      "source": [
        "Here, we select 3 features - age, trestbps, chol as X and target as a y"
      ],
      "metadata": {
        "id": "bPo1UxVm9by8"
      }
    },
    {
      "cell_type": "code",
      "source": [
        "X = df[['age', 'trestbps', 'chol']]\n",
        "y = df['target']"
      ],
      "metadata": {
        "id": "V2pnhNia9SCN"
      },
      "execution_count": null,
      "outputs": []
    },
    {
      "cell_type": "markdown",
      "source": [
        "Here, We split into train and test in 80-20 (80% train, 20% test)"
      ],
      "metadata": {
        "id": "v4-b3j2a-Agq"
      }
    },
    {
      "cell_type": "code",
      "source": [
        "X_train, X_test, y_train, y_test = train_test_split(X, y, test_size=0.2, random_state=42)"
      ],
      "metadata": {
        "id": "Ifc-nrkt90Yp"
      },
      "execution_count": null,
      "outputs": []
    },
    {
      "cell_type": "markdown",
      "source": [
        "### KNN without Normalization"
      ],
      "metadata": {
        "id": "fkeo9DZw-Mjp"
      }
    },
    {
      "cell_type": "code",
      "source": [
        "knn = KNeighborsClassifier(n_neighbors=5)\n",
        "knn.fit(X_train, y_train)\n",
        "y_pred = knn.predict(X_test)"
      ],
      "metadata": {
        "id": "pnPfmIqG-R3q"
      },
      "execution_count": null,
      "outputs": []
    },
    {
      "cell_type": "markdown",
      "source": [
        "Here, we print accuracy score, confusion matrix and classfication report without normalization."
      ],
      "metadata": {
        "id": "TAtZWS4__A_5"
      }
    },
    {
      "cell_type": "code",
      "source": [
        "print(\"KNN without Normalization :\")\n",
        "print(\"Accuracy : \",accuracy_score(y_test, y_pred))\n",
        "print(\"Confusion Matrix:\\n\", confusion_matrix(y_test, y_pred))\n",
        "print(\"Classification Report:\\n\", classification_report(y_test, y_pred))"
      ],
      "metadata": {
        "colab": {
          "base_uri": "https://localhost:8080/"
        },
        "id": "owtIH5gL-ihb",
        "outputId": "95cbe35b-8ae1-4d7d-8e7b-d7a4b56dbbb4"
      },
      "execution_count": null,
      "outputs": [
        {
          "output_type": "stream",
          "name": "stdout",
          "text": [
            "KNN without Normalization :\n",
            "Accuracy :  0.5245901639344263\n",
            "Confusion Matrix:\n",
            " [[14 15]\n",
            " [14 18]]\n",
            "Classification Report:\n",
            "               precision    recall  f1-score   support\n",
            "\n",
            "           0       0.50      0.48      0.49        29\n",
            "           1       0.55      0.56      0.55        32\n",
            "\n",
            "    accuracy                           0.52        61\n",
            "   macro avg       0.52      0.52      0.52        61\n",
            "weighted avg       0.52      0.52      0.52        61\n",
            "\n"
          ]
        }
      ]
    },
    {
      "cell_type": "markdown",
      "source": [
        "### KNN with Normalization"
      ],
      "metadata": {
        "id": "LPI_0QDS_NQa"
      }
    },
    {
      "cell_type": "markdown",
      "source": [
        "Here, we do normalization and make the X_train and X_test in a normalize form."
      ],
      "metadata": {
        "id": "e1I_x15B_paz"
      }
    },
    {
      "cell_type": "code",
      "source": [
        "scaler = MinMaxScaler()\n",
        "X_train_norm = scaler.fit_transform(X_train)\n",
        "X_test_norm = scaler.transform(X_test)"
      ],
      "metadata": {
        "id": "txTowhLJ_RDZ"
      },
      "execution_count": null,
      "outputs": []
    },
    {
      "cell_type": "markdown",
      "source": [
        "Here, we also normalize the KNN."
      ],
      "metadata": {
        "id": "iwBmD-D8ADmu"
      }
    },
    {
      "cell_type": "code",
      "source": [
        "knn_norm = KNeighborsClassifier(n_neighbors=5)\n",
        "knn_norm.fit(X_train_norm, y_train)\n",
        "y_pred_norm = knn_norm.predict(X_test_norm)"
      ],
      "metadata": {
        "id": "H5NhCpnw_197"
      },
      "execution_count": null,
      "outputs": []
    },
    {
      "cell_type": "markdown",
      "source": [
        "Here, we print accuracy, confusion matrix and classification on the normalize KNN."
      ],
      "metadata": {
        "id": "HqH_ISgqAPe2"
      }
    },
    {
      "cell_type": "code",
      "source": [
        "print(\"\\nKNN with Normalization\")\n",
        "print(\"Accuracy:\", accuracy_score(y_test, y_pred_norm))\n",
        "print(\"Confusion Matrix:\\n\", confusion_matrix(y_test, y_pred_norm))\n",
        "print(\"Classification Report:\\n\", classification_report(y_test, y_pred_norm))"
      ],
      "metadata": {
        "colab": {
          "base_uri": "https://localhost:8080/"
        },
        "id": "5CbXYr0dAKxu",
        "outputId": "248180c5-c4a3-487f-f694-38971e4e98fc"
      },
      "execution_count": null,
      "outputs": [
        {
          "output_type": "stream",
          "name": "stdout",
          "text": [
            "\n",
            "KNN with Normalization\n",
            "Accuracy: 0.6557377049180327\n",
            "Confusion Matrix:\n",
            " [[20  9]\n",
            " [12 20]]\n",
            "Classification Report:\n",
            "               precision    recall  f1-score   support\n",
            "\n",
            "           0       0.62      0.69      0.66        29\n",
            "           1       0.69      0.62      0.66        32\n",
            "\n",
            "    accuracy                           0.66        61\n",
            "   macro avg       0.66      0.66      0.66        61\n",
            "weighted avg       0.66      0.66      0.66        61\n",
            "\n"
          ]
        }
      ]
    },
    {
      "cell_type": "markdown",
      "source": [
        "Now, we plot KNN accuracy before and after normalization"
      ],
      "metadata": {
        "id": "-hCMkA7HAgoG"
      }
    },
    {
      "cell_type": "code",
      "source": [
        "# accuracy values\n",
        "accuracy_without_norm = accuracy_score(y_test, y_pred)\n",
        "accuracy_with_norm = accuracy_score(y_test, y_pred_norm)\n",
        "\n",
        "categories = ['Without Normalization', 'With Normalization']\n",
        "accuracy = [accuracy_without_norm, accuracy_with_norm]  # Decimal values for accuracy\n",
        "\n",
        "# Colors\n",
        "colors = ['red', 'green']\n",
        "\n",
        "# Create bar chart\n",
        "plt.bar(categories, accuracy, color=colors)\n",
        "\n",
        "# Add percentage labels on bars\n",
        "for i, value in enumerate(accuracy):\n",
        "    plt.text(i, value + 0.02, f\"{value*100:.2f}%\", ha='center', fontweight='bold')\n",
        "\n",
        "# Titles and labels\n",
        "plt.title(\"KNN Accuracy Before and After Normalization\")\n",
        "plt.ylabel(\"Accuracy\")"
      ],
      "metadata": {
        "colab": {
          "base_uri": "https://localhost:8080/",
          "height": 469
        },
        "id": "04-X8pIPAzCL",
        "outputId": "1a7445cf-1cd7-436b-b972-d38d9844439c"
      },
      "execution_count": null,
      "outputs": [
        {
          "output_type": "execute_result",
          "data": {
            "text/plain": [
              "Text(0, 0.5, 'Accuracy')"
            ]
          },
          "metadata": {},
          "execution_count": 15
        },
        {
          "output_type": "display_data",
          "data": {
            "text/plain": [
              "<Figure size 640x480 with 1 Axes>"
            ],
            "image/png": "[encoded data removed]"
          },
          "metadata": {}
        }
      ]
    }
  ]
}